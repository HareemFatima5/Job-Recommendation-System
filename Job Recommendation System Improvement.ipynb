{
  "nbformat": 4,
  "nbformat_minor": 0,
  "metadata": {
    "colab": {
      "provenance": []
    },
    "kernelspec": {
      "name": "python3",
      "display_name": "Python 3"
    },
    "language_info": {
      "name": "python"
    }
  },
  "cells": [
    {
      "cell_type": "markdown",
      "source": [
        "**Loading the Dataset**"
      ],
      "metadata": {
        "id": "FJMa5LjkJR6E"
      }
    },
    {
      "cell_type": "code",
      "source": [
        "import pandas as pd\n",
        "from sklearn.metrics import accuracy_score, confusion_matrix\n",
        "from sklearn.model_selection import train_test_split\n",
        "import matplotlib.pyplot as plt\n",
        "import seaborn as sns\n",
        "data = pd.read_csv(\"/content/clean_resume_data.csv\")"
      ],
      "metadata": {
        "id": "9e-6nAi-JMre"
      },
      "execution_count": 64,
      "outputs": []
    },
    {
      "cell_type": "code",
      "source": [
        "data.head()"
      ],
      "metadata": {
        "colab": {
          "base_uri": "https://localhost:8080/",
          "height": 206
        },
        "id": "aEbkLQwvJVRs",
        "outputId": "1b2a4cd7-cd5b-4d5f-9937-62d5da5b2601"
      },
      "execution_count": 43,
      "outputs": [
        {
          "output_type": "execute_result",
          "data": {
            "text/plain": [
              "         ID Category                                            Feature\n",
              "0  16852973       HR  hr administrator marketing associate hr admini...\n",
              "1  22323967       HR  hr specialist hr operations summary media prof...\n",
              "2  33176873       HR  hr director summary years experience recruitin...\n",
              "3  27018550       HR  hr specialist summary dedicated driven dynamic...\n",
              "4  17812897       HR  hr manager skill highlights hr skills hr depar..."
            ],
            "text/html": [
              "\n",
              "  <div id=\"df-3d687fa8-4cba-4965-8f77-63c12c1d74b0\" class=\"colab-df-container\">\n",
              "    <div>\n",
              "<style scoped>\n",
              "    .dataframe tbody tr th:only-of-type {\n",
              "        vertical-align: middle;\n",
              "    }\n",
              "\n",
              "    .dataframe tbody tr th {\n",
              "        vertical-align: top;\n",
              "    }\n",
              "\n",
              "    .dataframe thead th {\n",
              "        text-align: right;\n",
              "    }\n",
              "</style>\n",
              "<table border=\"1\" class=\"dataframe\">\n",
              "  <thead>\n",
              "    <tr style=\"text-align: right;\">\n",
              "      <th></th>\n",
              "      <th>ID</th>\n",
              "      <th>Category</th>\n",
              "      <th>Feature</th>\n",
              "    </tr>\n",
              "  </thead>\n",
              "  <tbody>\n",
              "    <tr>\n",
              "      <th>0</th>\n",
              "      <td>16852973</td>\n",
              "      <td>HR</td>\n",
              "      <td>hr administrator marketing associate hr admini...</td>\n",
              "    </tr>\n",
              "    <tr>\n",
              "      <th>1</th>\n",
              "      <td>22323967</td>\n",
              "      <td>HR</td>\n",
              "      <td>hr specialist hr operations summary media prof...</td>\n",
              "    </tr>\n",
              "    <tr>\n",
              "      <th>2</th>\n",
              "      <td>33176873</td>\n",
              "      <td>HR</td>\n",
              "      <td>hr director summary years experience recruitin...</td>\n",
              "    </tr>\n",
              "    <tr>\n",
              "      <th>3</th>\n",
              "      <td>27018550</td>\n",
              "      <td>HR</td>\n",
              "      <td>hr specialist summary dedicated driven dynamic...</td>\n",
              "    </tr>\n",
              "    <tr>\n",
              "      <th>4</th>\n",
              "      <td>17812897</td>\n",
              "      <td>HR</td>\n",
              "      <td>hr manager skill highlights hr skills hr depar...</td>\n",
              "    </tr>\n",
              "  </tbody>\n",
              "</table>\n",
              "</div>\n",
              "    <div class=\"colab-df-buttons\">\n",
              "\n",
              "  <div class=\"colab-df-container\">\n",
              "    <button class=\"colab-df-convert\" onclick=\"convertToInteractive('df-3d687fa8-4cba-4965-8f77-63c12c1d74b0')\"\n",
              "            title=\"Convert this dataframe to an interactive table.\"\n",
              "            style=\"display:none;\">\n",
              "\n",
              "  <svg xmlns=\"http://www.w3.org/2000/svg\" height=\"24px\" viewBox=\"0 -960 960 960\">\n",
              "    <path d=\"M120-120v-720h720v720H120Zm60-500h600v-160H180v160Zm220 220h160v-160H400v160Zm0 220h160v-160H400v160ZM180-400h160v-160H180v160Zm440 0h160v-160H620v160ZM180-180h160v-160H180v160Zm440 0h160v-160H620v160Z\"/>\n",
              "  </svg>\n",
              "    </button>\n",
              "\n",
              "  <style>\n",
              "    .colab-df-container {\n",
              "      display:flex;\n",
              "      gap: 12px;\n",
              "    }\n",
              "\n",
              "    .colab-df-convert {\n",
              "      background-color: #E8F0FE;\n",
              "      border: none;\n",
              "      border-radius: 50%;\n",
              "      cursor: pointer;\n",
              "      display: none;\n",
              "      fill: #1967D2;\n",
              "      height: 32px;\n",
              "      padding: 0 0 0 0;\n",
              "      width: 32px;\n",
              "    }\n",
              "\n",
              "    .colab-df-convert:hover {\n",
              "      background-color: #E2EBFA;\n",
              "      box-shadow: 0px 1px 2px rgba(60, 64, 67, 0.3), 0px 1px 3px 1px rgba(60, 64, 67, 0.15);\n",
              "      fill: #174EA6;\n",
              "    }\n",
              "\n",
              "    .colab-df-buttons div {\n",
              "      margin-bottom: 4px;\n",
              "    }\n",
              "\n",
              "    [theme=dark] .colab-df-convert {\n",
              "      background-color: #3B4455;\n",
              "      fill: #D2E3FC;\n",
              "    }\n",
              "\n",
              "    [theme=dark] .colab-df-convert:hover {\n",
              "      background-color: #434B5C;\n",
              "      box-shadow: 0px 1px 3px 1px rgba(0, 0, 0, 0.15);\n",
              "      filter: drop-shadow(0px 1px 2px rgba(0, 0, 0, 0.3));\n",
              "      fill: #FFFFFF;\n",
              "    }\n",
              "  </style>\n",
              "\n",
              "    <script>\n",
              "      const buttonEl =\n",
              "        document.querySelector('#df-3d687fa8-4cba-4965-8f77-63c12c1d74b0 button.colab-df-convert');\n",
              "      buttonEl.style.display =\n",
              "        google.colab.kernel.accessAllowed ? 'block' : 'none';\n",
              "\n",
              "      async function convertToInteractive(key) {\n",
              "        const element = document.querySelector('#df-3d687fa8-4cba-4965-8f77-63c12c1d74b0');\n",
              "        const dataTable =\n",
              "          await google.colab.kernel.invokeFunction('convertToInteractive',\n",
              "                                                    [key], {});\n",
              "        if (!dataTable) return;\n",
              "\n",
              "        const docLinkHtml = 'Like what you see? Visit the ' +\n",
              "          '<a target=\"_blank\" href=https://colab.research.google.com/notebooks/data_table.ipynb>data table notebook</a>'\n",
              "          + ' to learn more about interactive tables.';\n",
              "        element.innerHTML = '';\n",
              "        dataTable['output_type'] = 'display_data';\n",
              "        await google.colab.output.renderOutput(dataTable, element);\n",
              "        const docLink = document.createElement('div');\n",
              "        docLink.innerHTML = docLinkHtml;\n",
              "        element.appendChild(docLink);\n",
              "      }\n",
              "    </script>\n",
              "  </div>\n",
              "\n",
              "\n",
              "    <div id=\"df-1f38f28b-c06e-4879-8a90-c9abf24bae48\">\n",
              "      <button class=\"colab-df-quickchart\" onclick=\"quickchart('df-1f38f28b-c06e-4879-8a90-c9abf24bae48')\"\n",
              "                title=\"Suggest charts\"\n",
              "                style=\"display:none;\">\n",
              "\n",
              "<svg xmlns=\"http://www.w3.org/2000/svg\" height=\"24px\"viewBox=\"0 0 24 24\"\n",
              "     width=\"24px\">\n",
              "    <g>\n",
              "        <path d=\"M19 3H5c-1.1 0-2 .9-2 2v14c0 1.1.9 2 2 2h14c1.1 0 2-.9 2-2V5c0-1.1-.9-2-2-2zM9 17H7v-7h2v7zm4 0h-2V7h2v10zm4 0h-2v-4h2v4z\"/>\n",
              "    </g>\n",
              "</svg>\n",
              "      </button>\n",
              "\n",
              "<style>\n",
              "  .colab-df-quickchart {\n",
              "      --bg-color: #E8F0FE;\n",
              "      --fill-color: #1967D2;\n",
              "      --hover-bg-color: #E2EBFA;\n",
              "      --hover-fill-color: #174EA6;\n",
              "      --disabled-fill-color: #AAA;\n",
              "      --disabled-bg-color: #DDD;\n",
              "  }\n",
              "\n",
              "  [theme=dark] .colab-df-quickchart {\n",
              "      --bg-color: #3B4455;\n",
              "      --fill-color: #D2E3FC;\n",
              "      --hover-bg-color: #434B5C;\n",
              "      --hover-fill-color: #FFFFFF;\n",
              "      --disabled-bg-color: #3B4455;\n",
              "      --disabled-fill-color: #666;\n",
              "  }\n",
              "\n",
              "  .colab-df-quickchart {\n",
              "    background-color: var(--bg-color);\n",
              "    border: none;\n",
              "    border-radius: 50%;\n",
              "    cursor: pointer;\n",
              "    display: none;\n",
              "    fill: var(--fill-color);\n",
              "    height: 32px;\n",
              "    padding: 0;\n",
              "    width: 32px;\n",
              "  }\n",
              "\n",
              "  .colab-df-quickchart:hover {\n",
              "    background-color: var(--hover-bg-color);\n",
              "    box-shadow: 0 1px 2px rgba(60, 64, 67, 0.3), 0 1px 3px 1px rgba(60, 64, 67, 0.15);\n",
              "    fill: var(--button-hover-fill-color);\n",
              "  }\n",
              "\n",
              "  .colab-df-quickchart-complete:disabled,\n",
              "  .colab-df-quickchart-complete:disabled:hover {\n",
              "    background-color: var(--disabled-bg-color);\n",
              "    fill: var(--disabled-fill-color);\n",
              "    box-shadow: none;\n",
              "  }\n",
              "\n",
              "  .colab-df-spinner {\n",
              "    border: 2px solid var(--fill-color);\n",
              "    border-color: transparent;\n",
              "    border-bottom-color: var(--fill-color);\n",
              "    animation:\n",
              "      spin 1s steps(1) infinite;\n",
              "  }\n",
              "\n",
              "  @keyframes spin {\n",
              "    0% {\n",
              "      border-color: transparent;\n",
              "      border-bottom-color: var(--fill-color);\n",
              "      border-left-color: var(--fill-color);\n",
              "    }\n",
              "    20% {\n",
              "      border-color: transparent;\n",
              "      border-left-color: var(--fill-color);\n",
              "      border-top-color: var(--fill-color);\n",
              "    }\n",
              "    30% {\n",
              "      border-color: transparent;\n",
              "      border-left-color: var(--fill-color);\n",
              "      border-top-color: var(--fill-color);\n",
              "      border-right-color: var(--fill-color);\n",
              "    }\n",
              "    40% {\n",
              "      border-color: transparent;\n",
              "      border-right-color: var(--fill-color);\n",
              "      border-top-color: var(--fill-color);\n",
              "    }\n",
              "    60% {\n",
              "      border-color: transparent;\n",
              "      border-right-color: var(--fill-color);\n",
              "    }\n",
              "    80% {\n",
              "      border-color: transparent;\n",
              "      border-right-color: var(--fill-color);\n",
              "      border-bottom-color: var(--fill-color);\n",
              "    }\n",
              "    90% {\n",
              "      border-color: transparent;\n",
              "      border-bottom-color: var(--fill-color);\n",
              "    }\n",
              "  }\n",
              "</style>\n",
              "\n",
              "      <script>\n",
              "        async function quickchart(key) {\n",
              "          const quickchartButtonEl =\n",
              "            document.querySelector('#' + key + ' button');\n",
              "          quickchartButtonEl.disabled = true;  // To prevent multiple clicks.\n",
              "          quickchartButtonEl.classList.add('colab-df-spinner');\n",
              "          try {\n",
              "            const charts = await google.colab.kernel.invokeFunction(\n",
              "                'suggestCharts', [key], {});\n",
              "          } catch (error) {\n",
              "            console.error('Error during call to suggestCharts:', error);\n",
              "          }\n",
              "          quickchartButtonEl.classList.remove('colab-df-spinner');\n",
              "          quickchartButtonEl.classList.add('colab-df-quickchart-complete');\n",
              "        }\n",
              "        (() => {\n",
              "          let quickchartButtonEl =\n",
              "            document.querySelector('#df-1f38f28b-c06e-4879-8a90-c9abf24bae48 button');\n",
              "          quickchartButtonEl.style.display =\n",
              "            google.colab.kernel.accessAllowed ? 'block' : 'none';\n",
              "        })();\n",
              "      </script>\n",
              "    </div>\n",
              "\n",
              "    </div>\n",
              "  </div>\n"
            ],
            "application/vnd.google.colaboratory.intrinsic+json": {
              "type": "dataframe",
              "variable_name": "data",
              "summary": "{\n  \"name\": \"data\",\n  \"rows\": 2484,\n  \"fields\": [\n    {\n      \"column\": \"ID\",\n      \"properties\": {\n        \"dtype\": \"number\",\n        \"std\": 21457345,\n        \"min\": 3547447,\n        \"max\": 99806115,\n        \"num_unique_values\": 2484,\n        \"samples\": [\n          99244405,\n          17562754,\n          30311725\n        ],\n        \"semantic_type\": \"\",\n        \"description\": \"\"\n      }\n    },\n    {\n      \"column\": \"Category\",\n      \"properties\": {\n        \"dtype\": \"category\",\n        \"num_unique_values\": 24,\n        \"samples\": [\n          \"AGRICULTURE\",\n          \"APPAREL\",\n          \"HR\"\n        ],\n        \"semantic_type\": \"\",\n        \"description\": \"\"\n      }\n    },\n    {\n      \"column\": \"Feature\",\n      \"properties\": {\n        \"dtype\": \"string\",\n        \"num_unique_values\": 2481,\n        \"samples\": [\n          \"information technology specialist discountpcfix summary obsessed technology power change everything technology fuels passion commitment helping organizations set engage bring fresh ideas help team galvanize performance refine strategy spark new energy future get depends build connect create transform world accomplished years information technology support experience highly articulate capable experienced installing updating hardware software systems users known effectively optimizing systems meet changing demands enhancing collaboration improving security experienced operations analyst first rate skills organizing problem solving project management ready apply experience abilities take new professional challenges passionate driven professional remarkable analytical problem solving skills expert quality assurance tester offering five years experience detailed technical system specifications provides collaborative style well developed communication skills seeking role test reporting defect resolution well rounded team player dynamic written verbal communication skills hardworking resourceful team player history going achieve notable results offering excellent blend technical aptitude creative ability inspires design teams engaging management techniques innovative thinking resourceful technical support engineer polished restoring system functionality quickly assessing resolving diverse hardware software problems skills issue escalation reporting analysis quality control schematic understanding critical thinking data management network administration experience leadership improvement plan knowledge supervision hardware repair computer configurations system upgrades new program installations organizational leadership troubleshooting maintenance equipment repair power hand tool use troubleshooting repairs preventative maintenance telecommunications systems component repairs multitasking part inspections friendly positive attitude lan wan configurations server system administration end user training program installations software testing server improvements data backups project management security technologies network configuration time management active directory knowledge cybersecurity analysis system administration microsoft office ms office apple ios technician help desk assistance application software testing mechanical abilities information systems security professional advanced knowledge windows os advanced knowledge google chrome soldering database management technical knowledge server system softwares servers storage systems network equipment pcs notebooks brands experience information technology specialist discountpcfix current company name city state assisted client new computer network equipment purchases updated installed software customers ensure computer efficiency checked computers performed diagnostics repair backed data evening helping alleviate lost information following malware incident updated software versions patches new installations close security loopholes protect users identified hardware issues caused component failures using approved diagnostic tools installed motherboards processors graphics cards configured computers network drivers connected printers peripheral equipment upgraded laptops desktops improving speed performance fixed apple iphone imac ipad laptop products screen damage fixed brand windows os mac os chrome os products liquid damage observed system functioning entered commands test different areas operations explained technology related details easy understand terms individuals walks life various job positions responded assistance requests users directed individuals basic troubleshooting tasks reviewed current hardware software configurations recommended modifications increase system speed serviced repaired equipment according manufacturer guidelines installed new systems components according service orders manufacturer instructions assessed identified issues quickly resolved restore functionality built repaired computers according schedule installed configured setup pcs stores optimal operation reporting evaluated interfaces hardware software testing performance requirements studied complex technical issues determined proper resolution methods assisted post implementation troubleshooting new applications application upgrades determined alleviated hardware software network issues installed supported hardware software including desktops servers printers identified operational performance issues worked managers resolve concerns completed various reports analyzed report decide improvements could made recommended process systems improvements changes operations updated hardware software availability supervised network eliminate bottlenecks immediately handled network configurations hours weekends alleviate downtime maintain smooth operations assisted customers various types technical issues email live telephone delivered local remote tier support hardware software company personnel disassembled computer systems troubleshoot resolve hardware issues increased overall company performance improved uptime cost reductions quality control inspector contractor current company name city state conferred scientific engineering technical personnel resolve design research testing problems worked engineers facilitate research development testing correct mechanical failures generate technical specifications prior release developed implemented best practices defect prevention continuous improvement used specialized tools take precise measurements various aspects samples consulted engineers resolve quality production efficiency problems wrote detailed reports outlining performance quality defect rates completed non destructive tests visual inspections continuous basis inspected quality finished products making minor repairs meet project expectations documented nonconformities immediately recommended techniques prompt resolution completed non destructive tests visual inspections continuously reviewed drawings blueprints determine appropriate level inspection required adhered safety protocols minimize equipment damage avoid injuries assessed materials parts products conformance quality control requirements production specifications network analyst company name city state identified operational performance issues worked managers resolve concerns supporting following hardware types servers storage systems network equipment pcs ipad notebooks brands analyzed operational performance identify pain points provided actionable solutions management educated personnel company policies foster improved customer retention increased revenue technical knowledge standard server system software linux windows vmware drove revenue customer retention visiting corporate franchise centers serving clients educate staff company policies customer styling applications wrote reports outlining results facilitate management decision making executed monitored standards user interfaces page design graphics development provided senior technical support house staff user departments network applications monitored project budget careful assessment resource usage task management ensure costs kept low supported customers password resets account customization recorded complaints product deficiencies returned orders customer documentation system supported customers data connectivity issues assisting troubleshooting steps rebooting hardware maintained composure patience face difficult customer situations applying escalation techniques positive customer support performed site evaluations customer surveys team audits promoted continuous improvement governance processes spearheaded server infrastructure development quality control staging production operations quality control manager company name city state stayed well informed company federal regulations bolstered compliance corporate processes used creative professional policy find solutions issues diminishing conflicts handled scheduling procedures department directed team members setting achieving goals observed customer specifications monitoring quality control finished products education training federal polytechnic ado ekiti city state associate science science technology phoenix east aviation city state f aircraft dispatcher license aviation university colorado boulder city certificate cybersecurity policy aviation internet google support city certificate completed professional course security defense digital dark arts operating system becoming power user bits bytes computer networking system administration infrastructure service technical support fundamentals\",\n          \"business development director summary collaborate multiple stakeholders determine audience needs quickly developing strategic plans align clients business priorities strategies experience business development director current company name city state producing measurable results clients designing unique engagement initiatives employees sales channel partners consumers groups sales performance improvement products intangible services fortune clients success discovering growing business customers potential spend million year designed innovative solutions customized customers various objectives end result needs managing internal teams develop design operate complex custom projects ranging value least millions titles called include entire c suite ceo coo cfo cmo president evp marketing sales human resources finance define business issues improve revenue penetrating existing accounts opening new sold new accounts current position managed sales volume profit margin long sales cycle managed hired staff work major global account travel meetings business years total book business constantly million year nearly twice entertainment activity similar tenure achieved million sales twice becoming trusted partner clients customers want win account territory district sales manager national account sales company name city state responsible growth distributor sales volume product mix motivation dsr sales forces developed custom local training marketing materials later adopted nestle corporate distributor chain accounts accounted million sales increased chain accounts national accounts created sales forecasts developed budgets strategic plans managed entire regional office staff working team grew business nestle largest account nearly double surpassed sales budget goals year manager twice led company nationally new product introductions district sales grew million million district manager hired five salespeople direct reports promoted managed eight account managers time developed new reports marketing promotional strategies field designed account reviews process management field training programs entire company sold small business owners managed distributor sales accounts using strategic planning innovative programming cultivating strong personal relationships took area territory sales million mature company industry average annual increase financial operations executive department merchandising manager company name city state financial operations executive south bend store volunteered merchandise manager stores largest department role department highest foot sales volume department entire corporation th quarter accomplishments times president achievement guild award winner sales volume profit times president achievement award winner sales volume profit times achievement guild winner leadership year running combined volume top travel meetings sales several times biw national sales contest superbowl twice awarded achiever year profitable direct customer reviewed consistently management career outstanding exceeding expectations college elected executive positions finance club resident housing association skills sales business development distributor sales territory sales district sales sales solutions sales teams sales accounts national accounts sales management strategic accounts sales promotions travel meeting sales technology application sales clients management marketing budget budgets forecasts promotional travel meeting operations strategic planning training training development financial operations merchandising corporate operations employee engagement managing existing accounts forecasting human resources finding new accounts relationship building strategic direction education bachelor business administration finance general business western michigan university city state earned educational living costs jobs worked college industrial heavy construction excelled several sales roles including direct sales home goods direct sales national trip ranked top country sales started twosuccessful campus businesses member varsity division football team years organizations imex milford memories planning board huron valley youth baseball president treasurer director travel baseball lakeland milford travel secretary milford high school baseball instructor\",\n          \"engineering intern personal summary age years permanenet residency australia new zealand citizen currently living sydney australia knowledge base c python r stk catia ansys latex solidworks microsoft office microsoft project academic background high school diploma mathematics physics chemistry engineering nortmead high school city state australia ranked st place unit mathematics physics chemistry engineering studies ranked rd place extension mathematics english advanced received nd highest atar school bachelor science bachelor engineering honours aerospace university new south wales unsw city state australia maintained distinction final years university obtained high distinction distinction results advanced rd th year subjects engineering faculty dynamics aerospace vehicles avionics finite element methods aerodynamics professional engineering communication thesis using matlab programming certifications credentials scrum fundamentals certified data science fundamentals certified oracle sql developer advanced sql sql expert progress experience engineering intern feb apr company name city state achievements collaborated team engineers different fields goal creating technical solutions product concerns raised customers produced test record documentation containing solutions customers contacted customers directly verbally convey test result explain solution procedure written documentation successfully independently scoped business opportunities technically analysing possible options presented information company director independently autonomously researched far regulations successfully create test record sheets containing correct load values test methodology structural load testing seats aeromedical transport vehicles quickly learned production article conformity procedures taught casa regulatory authorities applied knowledge techniques autonomously measure articles appropriate measuring equipment tools strict timeframes reported nonconformities provided recommendations modifications directly design engineer built tested verified products performing functional qualitative inspections discover faults issues production articles deduced failure modes items undergo structural load testing using problem solving skills analytical skills using finite element ansys software independently created equipment supports integrated safety barriers analytical cad assisted design construction using mechanical engineering methods tools equipment desoldered soldered electronic components circuit boards rapidly create multiple fully functioning led lights used electronic medical equipment sales representative may jan company name city efficiently recorded sales orders purchase orders fire warning systems lights electrical fittings cameras displayed excellent customer service skills interpersonal skills communicating australian international customers phone provide information products maintaining regular email phone contact customers collaborated sales manager provide updates progress accounts prepared followed customer quotes turned leads appointments provided training customers ensure efficiently clean correctly use maintain company product applied regular follow process maximizing sales enquiry selling new customers identifying sales opportunities basic repairs maintenance existing customers ensuring email telephone enquiries answered minutes displayed ability focus high pressure environments calmly handling customer complaints showed flexibility collaborating administration team demanding times complete administrative tasks update records demonstrated attention detail utilizing time management skills setting goals prioritizing tasks creating schedules work strict deadlines tutor feb may company name city state tutored students one one classes group classes using effective teaching techniques help students ranging year difficulties science mathematics physics chemistry english provided assistance students ranging year fast paced homework help classes mechanical design engineer aug jul company name city state shared responsibility designing cubesat leader mechanical design team entry canadian satellite design challenge csdc solidworks structurally tested ansys printed completion design communicated teams fields using jira involved constructing mars rover entry european rover challenge erc led mechanical team designing gimbal gyroscopic testbed reaction wheel system solidworks displayed future students form printed model trained new members mechanical team using solidworks taught thermal electrical structural concepts memberships bluesat basic low earth orbit unsw experimental satellite group engineers australia achievements shared responsibility designing cubesat leader mechanical design team entry canadian satellite design challenge csdc solidworks structurally tested ansys printed completion design communicated teams fields using jira involved constructing mars rover entry european rover challenge erc led mechanical team designing gimbal gyroscopic testbed reaction wheel system solidworks displayed future students form printed modeltrained new members mechanical team using solidworks taught thermal electrical structural concepts community services social support youth services volunteer karabi community development services wentworthville sydney going achievements displayed passion social service support teaching facilitating setting activities events elderly people disabilities children provided assistance administration creative work office facilitating supervising youth school holiday programs personal interests hobbies traveling tennis hiking statistics cad drawing aircraft spacecraft astronomy\"\n        ],\n        \"semantic_type\": \"\",\n        \"description\": \"\"\n      }\n    }\n  ]\n}"
            }
          },
          "metadata": {},
          "execution_count": 43
        }
      ]
    },
    {
      "cell_type": "code",
      "source": [
        "data.shape"
      ],
      "metadata": {
        "colab": {
          "base_uri": "https://localhost:8080/"
        },
        "id": "9X_ZrUveJZWG",
        "outputId": "328102af-93ee-44f4-c021-5ae9e35e4634"
      },
      "execution_count": 96,
      "outputs": [
        {
          "output_type": "execute_result",
          "data": {
            "text/plain": [
              "(2484, 3)"
            ]
          },
          "metadata": {},
          "execution_count": 96
        }
      ]
    },
    {
      "cell_type": "code",
      "source": [
        "data['Category'].value_counts()"
      ],
      "metadata": {
        "colab": {
          "base_uri": "https://localhost:8080/",
          "height": 868
        },
        "id": "zVqXGnYvLCGF",
        "outputId": "9064947a-98b6-4b5c-96ef-12c778493b3a"
      },
      "execution_count": 48,
      "outputs": [
        {
          "output_type": "execute_result",
          "data": {
            "text/plain": [
              "Category\n",
              "INFORMATION-TECHNOLOGY    120\n",
              "BUSINESS-DEVELOPMENT      120\n",
              "ADVOCATE                  118\n",
              "CHEF                      118\n",
              "ENGINEERING               118\n",
              "ACCOUNTANT                118\n",
              "FINANCE                   118\n",
              "FITNESS                   117\n",
              "AVIATION                  117\n",
              "SALES                     116\n",
              "BANKING                   115\n",
              "HEALTHCARE                115\n",
              "CONSULTANT                115\n",
              "CONSTRUCTION              112\n",
              "PUBLIC-RELATIONS          111\n",
              "HR                        110\n",
              "DESIGNER                  107\n",
              "ARTS                      103\n",
              "TEACHER                   102\n",
              "APPAREL                    97\n",
              "DIGITAL-MEDIA              96\n",
              "AGRICULTURE                63\n",
              "AUTOMOBILE                 36\n",
              "BPO                        22\n",
              "Name: count, dtype: int64"
            ],
            "text/html": [
              "<div>\n",
              "<style scoped>\n",
              "    .dataframe tbody tr th:only-of-type {\n",
              "        vertical-align: middle;\n",
              "    }\n",
              "\n",
              "    .dataframe tbody tr th {\n",
              "        vertical-align: top;\n",
              "    }\n",
              "\n",
              "    .dataframe thead th {\n",
              "        text-align: right;\n",
              "    }\n",
              "</style>\n",
              "<table border=\"1\" class=\"dataframe\">\n",
              "  <thead>\n",
              "    <tr style=\"text-align: right;\">\n",
              "      <th></th>\n",
              "      <th>count</th>\n",
              "    </tr>\n",
              "    <tr>\n",
              "      <th>Category</th>\n",
              "      <th></th>\n",
              "    </tr>\n",
              "  </thead>\n",
              "  <tbody>\n",
              "    <tr>\n",
              "      <th>INFORMATION-TECHNOLOGY</th>\n",
              "      <td>120</td>\n",
              "    </tr>\n",
              "    <tr>\n",
              "      <th>BUSINESS-DEVELOPMENT</th>\n",
              "      <td>120</td>\n",
              "    </tr>\n",
              "    <tr>\n",
              "      <th>ADVOCATE</th>\n",
              "      <td>118</td>\n",
              "    </tr>\n",
              "    <tr>\n",
              "      <th>CHEF</th>\n",
              "      <td>118</td>\n",
              "    </tr>\n",
              "    <tr>\n",
              "      <th>ENGINEERING</th>\n",
              "      <td>118</td>\n",
              "    </tr>\n",
              "    <tr>\n",
              "      <th>ACCOUNTANT</th>\n",
              "      <td>118</td>\n",
              "    </tr>\n",
              "    <tr>\n",
              "      <th>FINANCE</th>\n",
              "      <td>118</td>\n",
              "    </tr>\n",
              "    <tr>\n",
              "      <th>FITNESS</th>\n",
              "      <td>117</td>\n",
              "    </tr>\n",
              "    <tr>\n",
              "      <th>AVIATION</th>\n",
              "      <td>117</td>\n",
              "    </tr>\n",
              "    <tr>\n",
              "      <th>SALES</th>\n",
              "      <td>116</td>\n",
              "    </tr>\n",
              "    <tr>\n",
              "      <th>BANKING</th>\n",
              "      <td>115</td>\n",
              "    </tr>\n",
              "    <tr>\n",
              "      <th>HEALTHCARE</th>\n",
              "      <td>115</td>\n",
              "    </tr>\n",
              "    <tr>\n",
              "      <th>CONSULTANT</th>\n",
              "      <td>115</td>\n",
              "    </tr>\n",
              "    <tr>\n",
              "      <th>CONSTRUCTION</th>\n",
              "      <td>112</td>\n",
              "    </tr>\n",
              "    <tr>\n",
              "      <th>PUBLIC-RELATIONS</th>\n",
              "      <td>111</td>\n",
              "    </tr>\n",
              "    <tr>\n",
              "      <th>HR</th>\n",
              "      <td>110</td>\n",
              "    </tr>\n",
              "    <tr>\n",
              "      <th>DESIGNER</th>\n",
              "      <td>107</td>\n",
              "    </tr>\n",
              "    <tr>\n",
              "      <th>ARTS</th>\n",
              "      <td>103</td>\n",
              "    </tr>\n",
              "    <tr>\n",
              "      <th>TEACHER</th>\n",
              "      <td>102</td>\n",
              "    </tr>\n",
              "    <tr>\n",
              "      <th>APPAREL</th>\n",
              "      <td>97</td>\n",
              "    </tr>\n",
              "    <tr>\n",
              "      <th>DIGITAL-MEDIA</th>\n",
              "      <td>96</td>\n",
              "    </tr>\n",
              "    <tr>\n",
              "      <th>AGRICULTURE</th>\n",
              "      <td>63</td>\n",
              "    </tr>\n",
              "    <tr>\n",
              "      <th>AUTOMOBILE</th>\n",
              "      <td>36</td>\n",
              "    </tr>\n",
              "    <tr>\n",
              "      <th>BPO</th>\n",
              "      <td>22</td>\n",
              "    </tr>\n",
              "  </tbody>\n",
              "</table>\n",
              "</div><br><label><b>dtype:</b> int64</label>"
            ]
          },
          "metadata": {},
          "execution_count": 48
        }
      ]
    },
    {
      "cell_type": "code",
      "source": [
        "data['Category'].unique()"
      ],
      "metadata": {
        "colab": {
          "base_uri": "https://localhost:8080/"
        },
        "id": "GkrJ59WFLIhh",
        "outputId": "3e67aa3b-8aea-4037-fc73-ff2ae81605a6"
      },
      "execution_count": 49,
      "outputs": [
        {
          "output_type": "execute_result",
          "data": {
            "text/plain": [
              "array(['HR', 'DESIGNER', 'INFORMATION-TECHNOLOGY', 'TEACHER', 'ADVOCATE',\n",
              "       'BUSINESS-DEVELOPMENT', 'HEALTHCARE', 'FITNESS', 'AGRICULTURE',\n",
              "       'BPO', 'SALES', 'CONSULTANT', 'DIGITAL-MEDIA', 'AUTOMOBILE',\n",
              "       'CHEF', 'FINANCE', 'APPAREL', 'ENGINEERING', 'ACCOUNTANT',\n",
              "       'CONSTRUCTION', 'PUBLIC-RELATIONS', 'BANKING', 'ARTS', 'AVIATION'],\n",
              "      dtype=object)"
            ]
          },
          "metadata": {},
          "execution_count": 49
        }
      ]
    },
    {
      "cell_type": "code",
      "source": [
        "from sklearn.utils import resample\n",
        "\n",
        "# defining the maximum count among all categories\n",
        "max_count = data['Category'].value_counts().max()\n",
        "\n",
        "# Resampling each category to match the maximum count\n",
        "balanced_data = []\n",
        "for category in data['Category'].unique():\n",
        "    category_data = data[data['Category'] == category]\n",
        "    if len(category_data) < max_count:\n",
        "\n",
        "        # Performing oversampling for categories with fewer samples\n",
        "        balanced_category_data = resample(category_data, replace=True, n_samples=max_count, random_state=42)\n",
        "    else:\n",
        "        # Performing undersampling for categories with more samples\n",
        "        balanced_category_data = resample(category_data, replace=False, n_samples=max_count, random_state=42)\n",
        "    balanced_data.append(balanced_category_data)\n",
        "\n",
        "# Concatenating the balanced data for all categories\n",
        "balanced_df = pd.concat(balanced_data)"
      ],
      "metadata": {
        "id": "3yAPntMqLQtv"
      },
      "execution_count": 50,
      "outputs": []
    },
    {
      "cell_type": "code",
      "source": [
        "X = balanced_df['Feature']\n",
        "y = balanced_df['Category']\n",
        "\n",
        "# 80% percent data for training and 20% data for testing\n",
        "X_train, X_test, y_train, y_test = train_test_split(X, y, test_size=0.2, random_state=42)"
      ],
      "metadata": {
        "id": "NgbgJpZoLoeU"
      },
      "execution_count": 53,
      "outputs": []
    },
    {
      "cell_type": "code",
      "source": [
        "# balanced_df.isnull().sum()\n",
        "balanced_df.dropna(inplace=True)"
      ],
      "metadata": {
        "id": "g5z1HQaZLUvx"
      },
      "execution_count": 54,
      "outputs": []
    },
    {
      "cell_type": "markdown",
      "source": [
        "## **TF-IDF**"
      ],
      "metadata": {
        "id": "Ic-vWtK2Jl9B"
      }
    },
    {
      "cell_type": "code",
      "source": [
        "X_train = X_train.fillna('')\n",
        "X_test = X_test.fillna('')\n",
        "tfidf_vectorizer = TfidfVectorizer()\n",
        "X_train_tfidf = tfidf_vectorizer.fit_transform(X_train)\n",
        "X_test_tfidf = tfidf_vectorizer.transform(X_test)"
      ],
      "metadata": {
        "id": "cS56MZtaJox3"
      },
      "execution_count": 57,
      "outputs": []
    },
    {
      "cell_type": "markdown",
      "source": [
        "## **Training Random Forest**"
      ],
      "metadata": {
        "id": "z52cshC1Lfl6"
      }
    },
    {
      "cell_type": "code",
      "source": [
        "from sklearn.metrics import classification_report\n",
        "\n",
        "rf_classifier = RandomForestClassifier()\n",
        "rf_classifier.fit(X_train_tfidf, y_train)\n",
        "\n",
        "# Accuracy Evaluation\n",
        "y_pred = rf_classifier.predict(X_test_tfidf)\n",
        "accuracy = accuracy_score(y_test, y_pred)\n",
        "print(\"Accuracy:\", accuracy)\n",
        "print(classification_report(y_test,y_pred))"
      ],
      "metadata": {
        "colab": {
          "base_uri": "https://localhost:8080/"
        },
        "id": "sPQxG6DzJ3je",
        "outputId": "9633138e-a152-431c-d500-8d1fae7657f9"
      },
      "execution_count": 58,
      "outputs": [
        {
          "output_type": "stream",
          "name": "stdout",
          "text": [
            "Accuracy: 0.8368055555555556\n",
            "                        precision    recall  f1-score   support\n",
            "\n",
            "            ACCOUNTANT       0.83      0.95      0.88        20\n",
            "              ADVOCATE       0.79      0.76      0.77        29\n",
            "           AGRICULTURE       0.91      0.91      0.91        23\n",
            "               APPAREL       0.68      0.77      0.72        22\n",
            "                  ARTS       0.94      0.67      0.78        24\n",
            "            AUTOMOBILE       1.00      0.68      0.81        19\n",
            "              AVIATION       0.90      0.96      0.93        28\n",
            "               BANKING       0.88      0.68      0.77        22\n",
            "                   BPO       1.00      1.00      1.00        15\n",
            "  BUSINESS-DEVELOPMENT       0.50      0.50      0.50        18\n",
            "                  CHEF       0.82      1.00      0.90        28\n",
            "          CONSTRUCTION       0.93      1.00      0.96        25\n",
            "            CONSULTANT       0.96      0.77      0.86        31\n",
            "              DESIGNER       0.90      0.93      0.91        28\n",
            "         DIGITAL-MEDIA       0.82      0.86      0.84        21\n",
            "           ENGINEERING       0.88      0.96      0.92        23\n",
            "               FINANCE       0.81      0.81      0.81        21\n",
            "               FITNESS       0.89      0.77      0.83        22\n",
            "            HEALTHCARE       0.83      0.86      0.85        29\n",
            "                    HR       0.73      0.90      0.81        21\n",
            "INFORMATION-TECHNOLOGY       0.58      0.78      0.67        23\n",
            "      PUBLIC-RELATIONS       0.91      0.83      0.87        24\n",
            "                 SALES       0.89      0.63      0.74        27\n",
            "               TEACHER       0.86      0.97      0.91        33\n",
            "\n",
            "              accuracy                           0.84       576\n",
            "             macro avg       0.84      0.83      0.83       576\n",
            "          weighted avg       0.85      0.84      0.84       576\n",
            "\n"
          ]
        }
      ]
    },
    {
      "cell_type": "code",
      "source": [
        "conf_matrix = confusion_matrix(y_test, y_pred)\n",
        "plt.figure(figsize=(10, 8))\n",
        "sns.heatmap(conf_matrix, annot=True, fmt='d', cmap='Blues', xticklabels=rf_classifier.classes_, yticklabels=rf_classifier.classes_)\n",
        "plt.xlabel('Predicted')\n",
        "plt.ylabel('True')\n",
        "plt.title('Confusion Matrix')\n",
        "plt.show()"
      ],
      "metadata": {
        "colab": {
          "base_uri": "https://localhost:8080/",
          "height": 804
        },
        "id": "eXfiLGgpMLC8",
        "outputId": "1e931ff1-06c8-48f8-d7f5-c0c7abc5e70e"
      },
      "execution_count": 65,
      "outputs": [
        {
          "output_type": "display_data",
          "data": {
            "text/plain": [
              "<Figure size 1000x800 with 2 Axes>"
            ],
            "image/png": "[encoded data removed]"
          },
          "metadata": {}
        }
      ]
    },
    {
      "cell_type": "markdown",
      "source": [
        "# **Assignment 3**"
      ],
      "metadata": {
        "id": "tn8br4fCMku8"
      }
    },
    {
      "cell_type": "code",
      "execution_count": 66,
      "metadata": {
        "colab": {
          "base_uri": "https://localhost:8080/"
        },
        "id": "hXeJxGvo85NP",
        "outputId": "d2b3688b-f5b8-4655-835c-7a36a91a5c3e"
      },
      "outputs": [
        {
          "output_type": "stream",
          "name": "stderr",
          "text": [
            "[nltk_data] Downloading package stopwords to /root/nltk_data...\n",
            "[nltk_data]   Package stopwords is already up-to-date!\n",
            "[nltk_data] Downloading package wordnet to /root/nltk_data...\n",
            "[nltk_data]   Package wordnet is already up-to-date!\n"
          ]
        }
      ],
      "source": [
        "import pandas as pd\n",
        "import numpy as np\n",
        "import re\n",
        "import nltk\n",
        "from nltk.stem import WordNetLemmatizer\n",
        "from nltk.corpus import stopwords\n",
        "from sklearn.feature_extraction.text import TfidfVectorizer\n",
        "from sklearn.model_selection import train_test_split\n",
        "from sklearn.ensemble import RandomForestClassifier\n",
        "from sklearn.metrics import accuracy_score, classification_report\n",
        "from scipy.sparse import hstack, csr_matrix\n",
        "from imblearn.over_sampling import RandomOverSampler\n",
        "\n",
        "# downloading NLTK data\n",
        "nltk.download('stopwords')\n",
        "nltk.download('wordnet')\n",
        "\n",
        "df = pd.read_csv(\"clean_resume_data.csv\").drop(columns=[\"ID\"]).dropna()"
      ]
    },
    {
      "cell_type": "markdown",
      "source": [
        "**Simplifying categories**"
      ],
      "metadata": {
        "id": "jqMjDaJTfJrY"
      }
    },
    {
      "cell_type": "code",
      "source": [
        "category_map = {\n",
        "    'INFORMATION-TECHNOLOGY': 'TECH',\n",
        "    'BUSINESS-DEVELOPMENT': 'BUSINESS',\n",
        "    'ADVOCATE': 'OTHERS',\n",
        "    'CHEF': 'OTHERS',\n",
        "    'ENGINEERING': 'ENGINEERING',\n",
        "    'ACCOUNTANT': 'BUSINESS',\n",
        "    'FINANCE': 'BUSINESS',\n",
        "    'FITNESS': 'OTHERS',\n",
        "    'AVIATION': 'OTHERS',\n",
        "    'SALES': 'BUSINESS',\n",
        "    'BANKING': 'BUSINESS',\n",
        "    'HEALTHCARE': 'OTHERS',\n",
        "    'CONSULTANT': 'BUSINESS',\n",
        "    'CONSTRUCTION': 'ENGINEERING',\n",
        "    'PUBLIC-RELATIONS': 'BUSINESS',\n",
        "    'HR': 'HR',\n",
        "    'DESIGNER': 'TECH',\n",
        "    'ARTS': 'OTHERS',\n",
        "    'TEACHER': 'OTHERS',\n",
        "    'APPAREL': 'OTHERS',\n",
        "    'DIGITAL-MEDIA': 'TECH',\n",
        "    'AGRICULTURE': 'OTHERS',\n",
        "    'AUTOMOBILE': 'ENGINEERING',\n",
        "    'BPO': 'BUSINESS'\n",
        "}\n",
        "\n",
        "df['SimplifiedCategory'] = df['Category'].map(category_map)"
      ],
      "metadata": {
        "id": "rRtpe4HbMuP_"
      },
      "execution_count": 97,
      "outputs": []
    },
    {
      "cell_type": "markdown",
      "source": [
        "## **Extracting Text Features**"
      ],
      "metadata": {
        "id": "RIGV_IeKNkjI"
      }
    },
    {
      "cell_type": "code",
      "source": [
        "def extract_text_features(text_series):\n",
        "    lemmatizer = WordNetLemmatizer()\n",
        "    stop_words = set(stopwords.words('english'))\n",
        "    features = []\n",
        "    for text in text_series:\n",
        "        text = str(text).lower()\n",
        "        tokens = re.findall(r'\\b\\w+\\b', text)\n",
        "        lemmatized = [lemmatizer.lemmatize(t) for t in tokens]\n",
        "        num_words = len(tokens)\n",
        "        num_unique = len(set(tokens))\n",
        "        avg_word_len = np.mean([len(t) for t in tokens]) if tokens else 0\n",
        "        num_caps = sum(1 for t in tokens if t.isupper())\n",
        "        num_digits = sum(c.isdigit() for c in text)\n",
        "        num_symbols = sum(1 for c in text if not c.isalnum() and not c.isspace())\n",
        "        features.append([num_words, num_unique, avg_word_len, num_caps, num_digits, num_symbols])\n",
        "    return pd.DataFrame(features, columns=[\n",
        "        'num_words', 'num_unique_words', 'avg_word_length',\n",
        "        'num_capital_words', 'num_digits', 'num_symbols'\n",
        "    ])"
      ],
      "metadata": {
        "id": "W0XxwVQsNjVO"
      },
      "execution_count": 68,
      "outputs": []
    },
    {
      "cell_type": "code",
      "source": [
        "# Add engineered features\n",
        "feature_df = extract_text_features(df['Feature'])\n",
        "df = pd.concat([df.reset_index(drop=True), feature_df], axis=1)\n",
        "\n",
        "# TF-IDF with n-grams\n",
        "vectorizer = TfidfVectorizer(ngram_range=(1, 3), max_features=10000)\n",
        "X_tfidf = vectorizer.fit_transform(df['Feature'])\n",
        "X_extra = df[feature_df.columns]\n",
        "X_all = hstack([X_tfidf, csr_matrix(X_extra.values)])\n",
        "\n",
        "# Labels\n",
        "y = df['SimplifiedCategory'].astype(str)\n",
        "\n",
        "# Oversample\n",
        "ros = RandomOverSampler(random_state=42)\n",
        "X_resampled, y_resampled = ros.fit_resample(X_all, y)\n"
      ],
      "metadata": {
        "id": "YIr0uldZM8ot"
      },
      "execution_count": 93,
      "outputs": []
    },
    {
      "cell_type": "code",
      "source": [
        "# Train-test split\n",
        "X_train, X_test, y_train, y_test = train_test_split(\n",
        "    X_resampled, y_resampled, stratify=y_resampled, test_size=0.2, random_state=42\n",
        ")"
      ],
      "metadata": {
        "id": "w4U5BTiTNBJl"
      },
      "execution_count": 70,
      "outputs": []
    },
    {
      "cell_type": "markdown",
      "source": [
        "**Training Random Forest**"
      ],
      "metadata": {
        "id": "MG7GXGRZNJWZ"
      }
    },
    {
      "cell_type": "code",
      "source": [
        "clf = RandomForestClassifier(n_estimators=300, class_weight='balanced', random_state=42)\n",
        "clf.fit(X_train, y_train)\n",
        "y_pred = clf.predict(X_test)"
      ],
      "metadata": {
        "id": "imF6IsPxNDcJ"
      },
      "execution_count": 71,
      "outputs": []
    },
    {
      "cell_type": "markdown",
      "source": [
        "**Evaluation**"
      ],
      "metadata": {
        "id": "AJV7-BbZNRgU"
      }
    },
    {
      "cell_type": "code",
      "source": [
        "print(\"Accuracy:\", accuracy_score(y_test, y_pred))\n",
        "print(classification_report(y_test, y_pred))"
      ],
      "metadata": {
        "colab": {
          "base_uri": "https://localhost:8080/"
        },
        "id": "_EqJOxZHNPyU",
        "outputId": "8474f0fd-f180-476b-f4c2-b0b9d4d3e3f0"
      },
      "execution_count": 72,
      "outputs": [
        {
          "output_type": "stream",
          "name": "stdout",
          "text": [
            "Accuracy: 0.9315789473684211\n",
            "              precision    recall  f1-score   support\n",
            "\n",
            "    BUSINESS       0.86      0.93      0.89       190\n",
            " ENGINEERING       0.96      0.97      0.97       190\n",
            "          HR       0.99      1.00      0.99       190\n",
            "      OTHERS       0.90      0.78      0.84       190\n",
            "        TECH       0.94      0.97      0.96       190\n",
            "\n",
            "    accuracy                           0.93       950\n",
            "   macro avg       0.93      0.93      0.93       950\n",
            "weighted avg       0.93      0.93      0.93       950\n",
            "\n"
          ]
        }
      ]
    },
    {
      "cell_type": "markdown",
      "source": [
        "**Confusion Matrix**"
      ],
      "metadata": {
        "id": "lkqBiIugfQGm"
      }
    },
    {
      "cell_type": "code",
      "source": [
        "conf_matrix = confusion_matrix(y_test, y_pred)\n",
        "plt.figure(figsize=(10, 8))\n",
        "sns.heatmap(conf_matrix, annot=True, fmt='d', cmap='Blues',xticklabels=clf.classes_, yticklabels=clf.classes_)\n",
        "plt.xlabel('Predicted')\n",
        "plt.ylabel('True')\n",
        "plt.title('Confusion Matrix')\n",
        "plt.show()"
      ],
      "metadata": {
        "colab": {
          "base_uri": "https://localhost:8080/",
          "height": 718
        },
        "id": "u5wOONiARIST",
        "outputId": "cf90ab9c-9d4d-437a-ddf8-bff2afd1652a"
      },
      "execution_count": 94,
      "outputs": [
        {
          "output_type": "display_data",
          "data": {
            "text/plain": [
              "<Figure size 1000x800 with 2 Axes>"
            ],
            "image/png": "[encoded data removed]"
          },
          "metadata": {}
        }
      ]
    },
    {
      "cell_type": "markdown",
      "source": [
        "**Comparison between Random Forest and Random Forest Enhanced**"
      ],
      "metadata": {
        "id": "JQEGLUeQegy2"
      }
    },
    {
      "cell_type": "code",
      "source": [
        "import matplotlib.pyplot as plt\n",
        "\n",
        "# accuarcies\n",
        "model_names = ['Random Forest','Random Forest Enhanced']\n",
        "accuracies=[accuracy,accuracy_score(y_test, y_pred)]\n",
        "\n",
        "plt.figure(figsize=(8, 5))\n",
        "plt.bar(model_names, accuracies, color=['skyblue', 'lightgreen'])\n",
        "plt.ylabel('Accuracy')\n",
        "plt.title('Model Accuracy Comparison')\n",
        "plt.ylim(0, 1)\n",
        "for i, acc in enumerate(accuracies):\n",
        "    plt.text(i, acc + 0.01, f'{acc:.4f}', ha='center')\n",
        "plt.show()"
      ],
      "metadata": {
        "colab": {
          "base_uri": "https://localhost:8080/",
          "height": 468
        },
        "id": "8efedH4Uecip",
        "outputId": "b97ee7a3-5218-4359-e699-c9d3d709a821"
      },
      "execution_count": 95,
      "outputs": [
        {
          "output_type": "display_data",
          "data": {
            "text/plain": [
              "<Figure size 800x500 with 1 Axes>"
            ],
            "image/png": "[encoded data removed]"
          },
          "metadata": {}
        }
      ]
    },
    {
      "cell_type": "markdown",
      "source": [
        "# **Predictive System**"
      ],
      "metadata": {
        "id": "3cbe0fasQIYp"
      }
    },
    {
      "cell_type": "code",
      "source": [
        "import re\n",
        "\n",
        "def cleanResume(txt):\n",
        "    cleanText = re.sub('http\\S+\\s', ' ', txt)\n",
        "    cleanText = re.sub('RT|cc', ' ', cleanText)\n",
        "    cleanText = re.sub('#\\S+', ' ', cleanText)\n",
        "    cleanText = re.sub('@\\S+', ' ', cleanText)\n",
        "    cleanText = re.sub('[%s]' % re.escape(\"\"\"!\"#$%&'()*+,-./:;<=>?@[\\\\]^_`{|}~\"\"\"), ' ', cleanText)\n",
        "    cleanText = re.sub(r'[^\\x00-\\x7f]', ' ', cleanText)\n",
        "    cleanText = re.sub('\\s+', ' ', cleanText)\n",
        "    return cleanText"
      ],
      "metadata": {
        "id": "d9oSUG97P6FH"
      },
      "execution_count": 86,
      "outputs": []
    },
    {
      "cell_type": "code",
      "source": [
        "# Prediction and Category Name\n",
        "def predict_category(resume_text):\n",
        "    resume_text = cleanResume(resume_text)\n",
        "    resume_tfidf = tfidf_vectorizer.transform([resume_text])\n",
        "    predicted_category = rf_classifier.predict(resume_tfidf)[0]\n",
        "    return predicted_category"
      ],
      "metadata": {
        "id": "tc3OvW3cP3lp"
      },
      "execution_count": 87,
      "outputs": []
    },
    {
      "cell_type": "code",
      "source": [
        "# Example Usage\n",
        "resume_file = \"\"\"hr administrator marketing associate hr administrator summary dedicated customer service manager years experience hospitality customer service management respected builder leader customer focused teams strives instill shared enthusiastic commitment customer service highlights focused customer satisfaction team management marketing savvy conflict resolution techniques training development skilled multi tasker client relations specialist accomplishments missouri dot\n",
        "\"\"\"\n",
        "\n",
        "predicted_category = predict_category(resume_file)\n",
        "print(\"Predicted Category:\", predicted_category)"
      ],
      "metadata": {
        "colab": {
          "base_uri": "https://localhost:8080/"
        },
        "id": "zKyoMH1KPVCq",
        "outputId": "ff138fde-bd37-48ba-9124-8be46f730bde"
      },
      "execution_count": 88,
      "outputs": [
        {
          "output_type": "stream",
          "name": "stdout",
          "text": [
            "Predicted Category: HR\n"
          ]
        }
      ]
    },
    {
      "cell_type": "code",
      "source": [
        "# Example Usage\n",
        "resume_file = \"\"\"Objective:\n",
        "A creative and detail-oriented Designer with a passion for visual communication and brand identity seeking opportunities to lever\n",
        "\n",
        "Education:\n",
        "- Bachelor of Fine Arts in Graphic Design, XYZ College, GPA: 3.7/4.0\n",
        "- Diploma in Web Design, ABC Institute, GPA: 3.9/4.0\n",
        "\n",
        "Skills:\n",
        "- Proficient in Adobe Creative Suite (Photoshop, Illustrator, InDesign)\n",
        "- Strong understanding of typography, layout, and color theory\n",
        "- Experience in both print and digital design\n",
        "- Ability to conceptualize and execute design projects from concept to completion\n",
        "- Excellent attention to detail and time management skills\n",
        "\n",
        "Experience:\n",
        "Graphic Designer | XYZ Design Studio\n",
        "- Created visually appealing graphics for various marketing materials, including brochures, flyers, and social media posts\n",
        "- Collaborated with clients to understand their design needs and deliver creative solutions that align with their brand identity\n",
        "- Worked closely with the marketing team to ensure consistency in brand messaging across all platforms\n",
        "\n",
        "Freelance Designer\n",
        "- Designed logos, branding materials, and website layouts for small businesses and startups\n",
        "- Managed multiple projects simultaneously while meeting tight deadlines and maintaining quality standards\n",
        "- Established and maintained strong client relationships through clear communication and exceptional service\n",
        "\n",
        "Projects:\n",
        "- Rebranding Campaign for XYZ Company: Led a team to redesign the company's logo, website, and marketing collateral, resulting in\n",
        "- Packaging Design for ABC Product Launch: Developed eye-catching packaging designs for a new product line, contributing to a succ\n",
        "\n",
        "Certifications:\n",
        "- Adobe Certified Expert (ACE) in Adobe Illustrator\n",
        "- Responsive Web Design Certification from Udemy\n",
        "\"\"\"\n",
        "predicted_category = predict_category(resume_file)\n",
        "print(\"Predicted Category:\", predicted_category)"
      ],
      "metadata": {
        "colab": {
          "base_uri": "https://localhost:8080/"
        },
        "id": "JrZ7HgAvP9yf",
        "outputId": "e67ccafd-97eb-4b1c-ab96-6cea4e44482f"
      },
      "execution_count": 90,
      "outputs": [
        {
          "output_type": "stream",
          "name": "stdout",
          "text": [
            "Predicted Category: DESIGNER\n"
          ]
        }
      ]
    },
    {
      "cell_type": "markdown",
      "source": [
        "# **Deployment**"
      ],
      "metadata": {
        "id": "Y6-_rsiGOI1a"
      }
    },
    {
      "cell_type": "code",
      "source": [
        "!pip install streamlit pyngrok --quiet"
      ],
      "metadata": {
        "id": "_LAhb8lC9aPn"
      },
      "execution_count": 73,
      "outputs": []
    },
    {
      "cell_type": "code",
      "source": [
        "%%writefile app.py\n",
        "import streamlit as st\n",
        "import pandas as pd\n",
        "import numpy as np\n",
        "import re\n",
        "import pickle\n",
        "import nltk\n",
        "from nltk.stem import WordNetLemmatizer\n",
        "from nltk.corpus import stopwords\n",
        "from sklearn.feature_extraction.text import TfidfVectorizer\n",
        "from scipy.sparse import hstack, csr_matrix\n",
        "\n",
        "# downloading required NLTK data\n",
        "nltk.download('stopwords')\n",
        "nltk.download('wordnet', force=True)\n",
        "nltk.download('omw-1.4')\n",
        "\n",
        "# loading the saved model and vectorizer\n",
        "model = pickle.load(open(\"rf_model.pkl\", \"rb\"))\n",
        "vectorizer = pickle.load(open(\"tfidf_vectorizer.pkl\", \"rb\"))\n",
        "\n",
        "# feature engineering function\n",
        "def extract_text_features(text_series):\n",
        "    stop_words = set(stopwords.words('english'))\n",
        "    features = []\n",
        "    for text in text_series:\n",
        "        text = str(text).lower()\n",
        "        tokens = re.findall(r'\\b\\w+\\b', text)\n",
        "        num_words = len(tokens)\n",
        "        num_unique = len(set(tokens))\n",
        "        avg_word_len = np.mean([len(t) for t in tokens]) if tokens else 0\n",
        "        num_caps = sum(1 for t in tokens if t.isupper())\n",
        "        num_digits = sum(c.isdigit() for c in text)\n",
        "        num_symbols = sum(1 for c in text if not c.isalnum() and not c.isspace())\n",
        "        features.append([num_words, num_unique, avg_word_len, num_caps, num_digits, num_symbols])\n",
        "    return pd.DataFrame(features, columns=[\n",
        "        'num_words', 'num_unique_words', 'avg_word_length',\n",
        "        'num_capital_words', 'num_digits', 'num_symbols'\n",
        "    ])\n",
        "\n",
        "st.title(\"Resume Category Classifier\")\n",
        "user_input = st.text_area(\"Paste Resume Text Below:\")\n",
        "\n",
        "if st.button(\"Classify\"):\n",
        "    if user_input.strip() == \"\":\n",
        "        st.warning(\"Please enter some resume text.\")\n",
        "    else:\n",
        "        # processing input\n",
        "        text_df = pd.Series([user_input])\n",
        "        extra_features = extract_text_features(text_df)\n",
        "        tfidf_features = vectorizer.transform(text_df)\n",
        "\n",
        "        # combining features\n",
        "        final_input = hstack([tfidf_features, csr_matrix(extra_features.values)])\n",
        "\n",
        "        # making prediction\n",
        "        prediction = model.predict(final_input)[0]\n",
        "        if pd.isna(prediction):\n",
        "            st.error(\"Prediction failed. Model returned NaN.\")\n",
        "        else:\n",
        "            st.success(f\"Predicted Category: **{prediction}**\")\n"
      ],
      "metadata": {
        "colab": {
          "base_uri": "https://localhost:8080/"
        },
        "id": "Bz4KKMbz9jzH",
        "outputId": "cdf4f523-e142-4663-ea93-89f5fbb10b47"
      },
      "execution_count": 98,
      "outputs": [
        {
          "output_type": "stream",
          "name": "stdout",
          "text": [
            "Overwriting app.py\n"
          ]
        }
      ]
    },
    {
      "cell_type": "code",
      "source": [
        "import pickle\n",
        "\n",
        "with open(\"rf_model.pkl\", \"wb\") as f:\n",
        "    pickle.dump(clf, f)\n",
        "\n",
        "with open(\"tfidf_vectorizer.pkl\", \"wb\") as f:\n",
        "    pickle.dump(vectorizer, f)"
      ],
      "metadata": {
        "id": "lhsDYVLu9rXm"
      },
      "execution_count": 82,
      "outputs": []
    },
    {
      "cell_type": "code",
      "source": [
        "!ngrok config add-authtoken 2w3AgeUvnrQQ7UWh2xVbIg8litV_7NoZYCVA9sC7qSUyfddaP"
      ],
      "metadata": {
        "colab": {
          "base_uri": "https://localhost:8080/"
        },
        "id": "kYeSJZlF-VIt",
        "outputId": "ccf78393-d5b4-430f-aefc-ff9334ecb115"
      },
      "execution_count": 83,
      "outputs": [
        {
          "output_type": "stream",
          "name": "stdout",
          "text": [
            "Authtoken saved to configuration file: /root/.config/ngrok/ngrok.yml\n"
          ]
        }
      ]
    },
    {
      "cell_type": "code",
      "source": [
        "from pyngrok import ngrok\n",
        "import threading\n",
        "import os\n",
        "\n",
        "def run_app():\n",
        "    os.system(\"streamlit run app.py\")\n",
        "\n",
        "thread = threading.Thread(target=run_app)\n",
        "thread.start()\n",
        "\n",
        "public_url = ngrok.connect(8501, \"http\")\n",
        "print(\"Streamlit App is live at:\", public_url)"
      ],
      "metadata": {
        "colab": {
          "base_uri": "https://localhost:8080/"
        },
        "id": "i4EjKYVq-SXj",
        "outputId": "8e6a7ac6-bbb3-40e1-8562-33f4d9e20ea7"
      },
      "execution_count": 84,
      "outputs": [
        {
          "output_type": "stream",
          "name": "stdout",
          "text": [
            "Streamlit App is live at: NgrokTunnel: \"https://89c4-34-125-18-81.ngrok-free.app\" -> \"http://localhost:8501\"\n"
          ]
        }
      ]
    }
  ]
}